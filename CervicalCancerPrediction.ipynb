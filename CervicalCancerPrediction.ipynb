{
  "nbformat": 4,
  "nbformat_minor": 0,
  "metadata": {
    "colab": {
      "provenance": [],
      "authorship_tag": "ABX9TyNJQiOcvzgmpN99jNlYHqST"
    },
    "kernelspec": {
      "name": "python3",
      "display_name": "Python 3"
    },
    "language_info": {
      "name": "python"
    }
  },
  "cells": [
    {
      "cell_type": "code",
      "source": [
        "!unzip /content/cervical_cancer.csv.zip -d /content/cervical_cancer.csv"
      ],
      "metadata": {
        "colab": {
          "base_uri": "https://localhost:8080/"
        },
        "id": "Hpx8VJVux2av",
        "outputId": "85284e5e-4747-4acc-eeb3-d540c84a5fc8"
      },
      "execution_count": 8,
      "outputs": [
        {
          "output_type": "stream",
          "name": "stdout",
          "text": [
            "Archive:  /content/cervical_cancer.csv.zip\n",
            "  inflating: /content/cervical_cancer.csv/risk_factors_cervical_cancer.csv  \n",
            "  inflating: /content/cervical_cancer.csv/__MACOSX/._risk_factors_cervical_cancer.csv  \n"
          ]
        }
      ]
    },
    {
      "cell_type": "code",
      "source": [
        "import pandas as pd\n",
        "\n",
        "# Replace the file path with the path to your CSV file\n",
        "file_path = '/content/cervical_cancer.csv/risk_factors_cervical_cancer.csv'\n",
        "\n",
        "# Read the CSV file into a pandas DataFrame\n",
        "df = pd.read_csv(file_path)\n",
        "\n",
        "# Print the first few rows of the DataFrame to verify that the file was read correctly\n",
        "print(df.head())\n"
      ],
      "metadata": {
        "colab": {
          "base_uri": "https://localhost:8080/"
        },
        "id": "9lC1dlGG1vWn",
        "outputId": "ea26fd60-65c0-493a-e083-5c6d785f159c"
      },
      "execution_count": 12,
      "outputs": [
        {
          "output_type": "stream",
          "name": "stdout",
          "text": [
            "   Age Number of sexual partners First sexual intercourse Num of pregnancies  \\\n",
            "0   18                       4.0                     15.0                1.0   \n",
            "1   15                       1.0                     14.0                1.0   \n",
            "2   34                       1.0                        ?                1.0   \n",
            "3   52                       5.0                     16.0                4.0   \n",
            "4   46                       3.0                     21.0                4.0   \n",
            "\n",
            "  Smokes Smokes (years) Smokes (packs/year) Hormonal Contraceptives  \\\n",
            "0    0.0            0.0                 0.0                     0.0   \n",
            "1    0.0            0.0                 0.0                     0.0   \n",
            "2    0.0            0.0                 0.0                     0.0   \n",
            "3    1.0           37.0                37.0                     1.0   \n",
            "4    0.0            0.0                 0.0                     1.0   \n",
            "\n",
            "  Hormonal Contraceptives (years)  IUD  ... STDs: Time since first diagnosis  \\\n",
            "0                             0.0  0.0  ...                                ?   \n",
            "1                             0.0  0.0  ...                                ?   \n",
            "2                             0.0  0.0  ...                                ?   \n",
            "3                             3.0  0.0  ...                                ?   \n",
            "4                            15.0  0.0  ...                                ?   \n",
            "\n",
            "  STDs: Time since last diagnosis Dx:Cancer Dx:CIN Dx:HPV Dx Hinselmann  \\\n",
            "0                               ?         0      0      0  0          0   \n",
            "1                               ?         0      0      0  0          0   \n",
            "2                               ?         0      0      0  0          0   \n",
            "3                               ?         1      0      1  0          0   \n",
            "4                               ?         0      0      0  0          0   \n",
            "\n",
            "  Schiller Citology Biopsy  \n",
            "0        0        0      0  \n",
            "1        0        0      0  \n",
            "2        0        0      0  \n",
            "3        0        0      0  \n",
            "4        0        0      0  \n",
            "\n",
            "[5 rows x 36 columns]\n"
          ]
        }
      ]
    },
    {
      "cell_type": "code",
      "source": [
        "from sklearn.linear_model import LogisticRegression\n",
        "\n",
        "X = df.iloc[:, :-1]\n",
        "y = df.iloc[:, -1]\n",
        "\n",
        "clf = LogisticRegression(max_iter=1000)\n",
        "clf.fit(X, y)\n",
        "\n",
        "accuracy = clf.score(X, y)\n",
        "print(\"Accuracy:\", accuracy)\n"
      ],
      "metadata": {
        "colab": {
          "base_uri": "https://localhost:8080/"
        },
        "id": "00xEKJ_o2deF",
        "outputId": "457be503-3f8f-46d2-e867-05aee107af90"
      },
      "execution_count": 42,
      "outputs": [
        {
          "output_type": "stream",
          "name": "stdout",
          "text": [
            "Accuracy: 0.9673659673659674\n"
          ]
        }
      ]
    },
    {
      "cell_type": "code",
      "source": [
        "import pandas as pd\n",
        "import numpy as np\n",
        "from sklearn.impute import SimpleImputer\n",
        "from sklearn.model_selection import train_test_split\n",
        "from sklearn.linear_model import LogisticRegression\n",
        "\n",
        "# Load the dataset\n",
        "df = pd.read_csv('/content/cervical_cancer.csv/risk_factors_cervical_cancer.csv')\n",
        "\n",
        "# Replace '?' with NaN\n",
        "df = df.replace('?', np.nan)\n",
        "\n",
        "# Impute the missing values with the mean\n",
        "imputer = SimpleImputer()\n",
        "df = pd.DataFrame(imputer.fit_transform(df), columns=df.columns)\n",
        "\n",
        "# Split the dataset into training and testing sets\n",
        "X = df.drop(['Biopsy'], axis=1)\n",
        "y = df['Biopsy']\n",
        "X_train, X_test, y_train, y_test = train_test_split(X, y, test_size=0.2, random_state=42)\n",
        "\n",
        "# Train the logistic regression model\n",
        "model = LogisticRegression(max_iter=1000)\n",
        "model.fit(X_train, y_train)\n",
        "\n",
        "# Evaluate the model\n",
        "accuracy = model.score(X_test, y_test)\n",
        "print('Accuracy:', accuracy)\n",
        "\n",
        "y_pred = model.predict(X_test)\n",
        "y_pred = [int(x) for x in y_pred]\n",
        "print('Predictions:', y_pred)"
      ],
      "metadata": {
        "colab": {
          "base_uri": "https://localhost:8080/"
        },
        "id": "4-2ka_sc1fFu",
        "outputId": "c3a85c75-52dc-47be-a6ce-fb6abcc89d55"
      },
      "execution_count": 43,
      "outputs": [
        {
          "output_type": "stream",
          "name": "stdout",
          "text": [
            "Accuracy: 0.9476744186046512\n",
            "Predictions: [0, 0, 0, 0, 0, 0, 0, 0, 0, 0, 0, 0, 0, 0, 0, 0, 0, 0, 0, 0, 0, 0, 0, 0, 0, 0, 0, 0, 0, 0, 0, 0, 0, 0, 0, 0, 0, 1, 0, 0, 0, 0, 0, 0, 0, 0, 0, 0, 0, 0, 0, 0, 0, 0, 0, 0, 0, 0, 0, 1, 0, 0, 0, 0, 0, 0, 0, 0, 0, 0, 1, 0, 0, 0, 0, 0, 0, 0, 1, 0, 0, 0, 0, 0, 0, 0, 0, 1, 0, 0, 0, 0, 0, 0, 0, 0, 0, 0, 0, 0, 0, 0, 0, 0, 0, 0, 0, 0, 0, 0, 0, 0, 0, 0, 0, 0, 0, 0, 0, 0, 0, 0, 0, 0, 0, 0, 0, 0, 0, 0, 0, 0, 0, 0, 0, 0, 0, 0, 0, 0, 0, 0, 0, 0, 0, 0, 0, 0, 0, 0, 0, 0, 0, 0, 0, 0, 0, 1, 1, 1, 0, 0, 0, 0, 1, 0, 0, 1, 0, 0, 0, 0]\n"
          ]
        }
      ]
    },
    {
      "cell_type": "code",
      "source": [
        "# Create new data\n",
        "new_data = pd.DataFrame({\n",
        "    'Age': [25],\n",
        "    'Number of sexual partners': [2],\n",
        "    'First sexual intercourse': [18],\n",
        "    'Num of pregnancies': [0],\n",
        "    'Smokes': [True],\n",
        "    'Smokes (years)': [5],\n",
        "    'Smokes (packs/year)': [1],\n",
        "    'Hormonal Contraceptives': [True],\n",
        "    'Hormonal Contraceptives (years)': [2],\n",
        "    'IUD': [False],\n",
        "    'IUD (years)': [0],\n",
        "    'STDs': [False],\n",
        "    'STDs (number)': [0],\n",
        "    'STDs:condylomatosis': [False],\n",
        "    'STDs:cervical condylomatosis': [False],\n",
        "    'STDs:vaginal condylomatosis': [False],\n",
        "    'STDs:vulvo-perineal condylomatosis': [False],\n",
        "    'STDs:syphilis': [False],\n",
        "    'STDs:pelvic inflammatory disease': [False],\n",
        "    'STDs:genital herpes': [False],\n",
        "    'STDs:molluscum contagiosum': [False],\n",
        "    'STDs:AIDS': [False],\n",
        "    'STDs:HIV': [False],\n",
        "    'STDs:Hepatitis B': [False],\n",
        "    'STDs:HPV': [False],\n",
        "    'STDs: Number of diagnosis': [0],\n",
        "    'STDs: Time since first diagnosis': [0],\n",
        "    'STDs: Time since last diagnosis': [0],\n",
        "    'Dx:Cancer': [False],\n",
        "    'Dx:CIN': [False],\n",
        "    'Dx:HPV': [False],\n",
        "    'Dx': [False],\n",
        "    'Hinselmann': [False],\n",
        "    'Schiller': [False],\n",
        "    'Citology': [False]\n",
        "})\n",
        "\n",
        "# Make predictions on the new data\n",
        "\n",
        "predictions = model.predict(new_data)\n",
        "print(predictions.astype(int))"
      ],
      "metadata": {
        "colab": {
          "base_uri": "https://localhost:8080/"
        },
        "id": "Vc_n19MK6tXO",
        "outputId": "a0b25c12-6b2e-47c7-9761-9ffd3a90b0b2"
      },
      "execution_count": 47,
      "outputs": [
        {
          "output_type": "stream",
          "name": "stdout",
          "text": [
            "[0]\n"
          ]
        }
      ]
    }
  ]
}